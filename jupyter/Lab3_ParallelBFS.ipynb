{
  "nbformat": 4,
  "nbformat_minor": 0,
  "metadata": {
    "colab": {
      "provenance": [],
      "collapsed_sections": [
        "x0BM7l1raLEy",
        "_JHmcZ-zaPZV",
        "As7XZ6NIZiHS",
        "zgH36VSkAd4e",
        "d-Tt0R1EKcPi"
      ]
    },
    "kernelspec": {
      "name": "python3",
      "display_name": "Python 3"
    },
    "language_info": {
      "name": "python"
    },
    "gpuClass": "standard",
    "accelerator": "GPU"
  },
  "cells": [
    {
      "cell_type": "markdown",
      "metadata": {
        "id": "uQJZ9ivwNQGg"
      },
      "source": [
        "# Parallel Computing Lab 3: Parallelized Breadth-First Search\n",
        "November 18, 2022\n",
        "- Chad Spector\n",
        "- Eric Chao"
      ]
    },
    {
      "cell_type": "markdown",
      "source": [
        "## Dependencies: Compare nodeOutput, Compare nextLevelNodes"
      ],
      "metadata": {
        "id": "x0BM7l1raLEy"
      }
    },
    {
      "cell_type": "markdown",
      "source": [
        "### `compareNextLevelNodes.cu`"
      ],
      "metadata": {
        "id": "rbF4htWSlb_d"
      }
    },
    {
      "cell_type": "code",
      "source": [
        "%%writefile compareNextLevelNodes.cu\n",
        "#include <stdio.h>\n",
        "#include <stdlib.h>\n",
        "void sort(int *pointer, int size){\n",
        "  //get from https://stackoverflow.com/questions/13012594/sorting-with-pointers-instead-of-indexes\n",
        "    int *i, *j, temp;\n",
        "    for(i = pointer; i < pointer + size; i++){\n",
        "        for(j = i + 1; j < pointer + size; j++){\n",
        "            if(*j < *i){\n",
        "                temp = *j;\n",
        "                *j = *i;\n",
        "                *i = temp;\n",
        "            }\n",
        "        }\n",
        "    }\n",
        "}\n",
        "\n",
        "void compareNextLevelNodeFiles(char *file_name1, char *file_name2) \n",
        "{ \n",
        "\n",
        "  \n",
        "    FILE* fp_1 = fopen(file_name1, \"r\");\n",
        "    if (fp_1 == NULL){\n",
        "     fprintf(stderr, \"Couldn't open file for reading\\n\");\n",
        "     exit(1);\n",
        "    } \n",
        "\n",
        "    FILE* fp_2 = fopen(file_name2, \"r\");\n",
        "    if (fp_2 == NULL){\n",
        "     fprintf(stderr, \"Couldn't open file for reading\\n\");\n",
        "     exit(1);\n",
        "    } \n",
        "    \n",
        "    int counter = 0;\n",
        "    int len_1;\n",
        "    int len_2;\n",
        "    int length_file_1 = fscanf(fp_1, \"%d\", &len_1);\n",
        "    int length_file_2 = fscanf(fp_2, \"%d\", &len_2);\n",
        "\n",
        "    if(length_file_1 != length_file_2){\n",
        "      fprintf(stderr, \"Wrong file lengths: f1 %d f2 %d\\n\", len_1, len_2);\n",
        "      exit(1);\n",
        "    }\n",
        "    int *input1 = (int *)malloc(len_1 * sizeof(int));\n",
        "    int *input2 = (int *)malloc(len_2 * sizeof(int));\n",
        "\n",
        "\n",
        "\n",
        "\n",
        "    int temp1;\n",
        "    int temp2;\n",
        "\n",
        "    while ((fscanf(fp_1, \"%d\", &temp1) == 1) && (fscanf(fp_2, \"%d\", &temp2) == 1)) {\n",
        "        (input1)[counter] = temp1;\n",
        "        (input2)[counter] = temp2;\n",
        "        counter++;\n",
        "    }\n",
        "\n",
        "    sort(input1, len_1);\n",
        "    sort(input2, len_2);\n",
        "\n",
        "    for(int i=0; i< len_1; i++){\n",
        "      if(input1[i] != input2[i]){\n",
        "        fprintf(stderr, \"Something goes wrong\\n\");\n",
        "        exit(1);\n",
        "      }\n",
        "    }\n",
        "\n",
        "    fprintf(stderr, \"No errors!\\n\");\n",
        "        exit(1);\n",
        "\n",
        "} \n",
        "\n",
        "int main(int argc, char *argv[]){\n",
        "\n",
        "    if( argc < 3) {\n",
        "      printf(\"Require two files\\n\");\n",
        "      exit(1);\n",
        "      \n",
        "   }\n",
        "compareNextLevelNodeFiles(argv[1], argv[2]);\n",
        "}\n"
      ],
      "metadata": {
        "colab": {
          "base_uri": "https://localhost:8080/"
        },
        "id": "9pNromiylYoS",
        "outputId": "714f4969-3c25-4a76-bc17-f33e47f51ab3"
      },
      "execution_count": null,
      "outputs": [
        {
          "output_type": "stream",
          "name": "stdout",
          "text": [
            "Writing compareNextLevelNodes.cu\n"
          ]
        }
      ]
    },
    {
      "cell_type": "code",
      "source": [
        "!nvcc compareNextLevelNodes.cu -o compareNextLevelNodes"
      ],
      "metadata": {
        "id": "GBiRM9njY_3o"
      },
      "execution_count": null,
      "outputs": []
    },
    {
      "cell_type": "markdown",
      "source": [
        "### `compareNodeOutput.cu`"
      ],
      "metadata": {
        "id": "JoLMHL7xlgKo"
      }
    },
    {
      "cell_type": "code",
      "source": [
        "%%writefile compareNodeOutput.cu\n",
        "#include <stdio.h>\n",
        "#include <stdlib.h>\n",
        "\n",
        "\n",
        "void compareFiles(char *file_name1, char *file_name2) \n",
        "{ \n",
        "//get from https://www.tutorialspoint.com/c-program-to-compare-two-files-and-report-mismatches\n",
        "FILE* fp1 = fopen(file_name1, \"r\");\n",
        "FILE* fp2 = fopen(file_name2, \"r\");\n",
        "    // fetching character of two file \n",
        "    // in two variable ch1 and ch2 \n",
        "    char ch1 = getc(fp1); \n",
        "    char ch2 = getc(fp2); \n",
        "  \n",
        "    // error keeps track of number of errors \n",
        "    // pos keeps track of position of errors \n",
        "    // line keeps track of error line \n",
        "    int error = 0, pos = 0, line = 1; \n",
        "  \n",
        "    // iterate loop till end of file \n",
        "    while (ch1 != EOF && ch2 != EOF) \n",
        "    { \n",
        "        pos++; \n",
        "  \n",
        "        // if both variable encounters new \n",
        "        // line then line variable is incremented \n",
        "        // and pos variable is set to 0 \n",
        "        if (ch1 == '\\n' && ch2 == '\\n') \n",
        "        { \n",
        "            line++; \n",
        "            pos = 0; \n",
        "        } \n",
        "  \n",
        "        // if fetched data is not equal then \n",
        "        // error is incremented \n",
        "        if (ch1 != ch2) \n",
        "        { \n",
        "            error++; \n",
        "            printf(\"Line Number : %d \\tError\"\n",
        "               \" Position : %d \\n\", line, pos); \n",
        "        } \n",
        "  \n",
        "        // fetching character until end of file \n",
        "        ch1 = getc(fp1); \n",
        "        ch2 = getc(fp2); \n",
        "    } \n",
        "  \n",
        "    printf(\"Total Errors : %d\\t\", error); \n",
        "} \n",
        "\n",
        "int main(int argc, char *argv[]){\n",
        "\n",
        "    if( argc < 3) {\n",
        "      printf(\"Require two files\\n\");\n",
        "      exit(1);\n",
        "      \n",
        "   }\n",
        "compareFiles(argv[1], argv[2]);\n",
        "}\n"
      ],
      "metadata": {
        "colab": {
          "base_uri": "https://localhost:8080/"
        },
        "id": "0LkkYyUKljoo",
        "outputId": "e0078a40-f7c9-45ca-dc5c-7b7cc8bb04e1"
      },
      "execution_count": null,
      "outputs": [
        {
          "output_type": "stream",
          "name": "stdout",
          "text": [
            "Writing compareNodeOutput.cu\n"
          ]
        }
      ]
    },
    {
      "cell_type": "code",
      "source": [
        "!nvcc compareNodeOutput.cu -o compareNodeOutput"
      ],
      "metadata": {
        "id": "slstD4XwZF0t"
      },
      "execution_count": null,
      "outputs": []
    },
    {
      "cell_type": "markdown",
      "source": [
        "# Sequential BFS"
      ],
      "metadata": {
        "id": "kF6up9yQaNmd"
      }
    },
    {
      "cell_type": "markdown",
      "source": [
        "### sequential.cu"
      ],
      "metadata": {
        "id": "_JHmcZ-zaPZV"
      }
    },
    {
      "cell_type": "code",
      "execution_count": null,
      "metadata": {
        "id": "uLDZUYqkhUYt",
        "colab": {
          "base_uri": "https://localhost:8080/"
        },
        "outputId": "ce3e4fef-8e41-4140-8824-4681f8c7436d"
      },
      "outputs": [
        {
          "output_type": "stream",
          "name": "stdout",
          "text": [
            "Writing sequential.cu\n"
          ]
        }
      ],
      "source": [
        "%%writefile sequential.cu\n",
        "#include <stdio.h>\n",
        "#include <stdlib.h>\n",
        "#include <time.h>\n",
        "\n",
        "#define AND 0\n",
        "#define OR 1\n",
        "#define NAND 2\n",
        "#define NOR 3\n",
        "#define XOR 4\n",
        "#define XNOR 5\n",
        "\n",
        "#define MAX_QUEUE_SIZE 41000\n",
        "\n",
        "\n",
        "int gate_solver(int gate, int input1, int input2) {\n",
        "    int output;\n",
        "    switch (gate) {\n",
        "            case AND:\n",
        "                output = input1 && input2;\n",
        "                break;\n",
        "            case OR:\n",
        "                output = input1 || input2;\n",
        "                break;\n",
        "            case NAND:\n",
        "                output = !(input1 && input2);\n",
        "                break;\n",
        "            case NOR:\n",
        "                output = !(input1 || input2);\n",
        "                break;\n",
        "            case XOR:\n",
        "                output = (input1 || input2) && !(input1 && input2);\n",
        "                break;\n",
        "            case XNOR:\n",
        "                output = (input1 && input2) || (!input1 && !input2);\n",
        "                break;\n",
        "    }\n",
        "    return output;\n",
        "}\n",
        "\n",
        "/**\n",
        " * @brief Reads an input file containing length L in first line and one integer for each of the next L lines, storing the values in the integer array provided.\n",
        " * \n",
        " * @param input1 pointer to an integer array to store the data\n",
        " * @param filepath character array, name of input file to open\n",
        " * @return int, length of resulting array\n",
        " */\n",
        "int read_input_one_two_four(int **input1, char* filepath){\n",
        "    FILE* fp = fopen(filepath, \"r\");\n",
        "    if (fp == NULL){\n",
        "     fprintf(stderr, \"Couldn't open file for reading\\n\");\n",
        "     exit(1);\n",
        "    }\n",
        "    \n",
        "    int counter = 0;\n",
        "    int len;\n",
        "    int length = fscanf(fp, \"%d\", &len);\n",
        "    \n",
        "    // Allocate len entries and assign the pointer to out input reference\n",
        "    *input1 = ( int *)malloc(len * sizeof(int));\n",
        "    int temp1;\n",
        "    \n",
        "    // read line by line, one integer per line\n",
        "    while (fscanf(fp, \"%d\", &temp1) == 1) {\n",
        "        (*input1)[counter] = temp1;\n",
        "\n",
        "        counter++;\n",
        "    }\n",
        "\n",
        "    fclose(fp);\n",
        "    return len;\n",
        "\n",
        "}\n",
        "\n",
        "/**\n",
        " * @brief Reads a CSV formatted file with information for every node gate.\n",
        " * \n",
        " * @param input1 Pointer to Visited array\n",
        " * @param input2 Pointer to Logic Gate types array\n",
        " * @param input3 Pointer to Logic Gate inputs array\n",
        " * @param input4 Pointer to Logic Gate outputs array\n",
        " * @param filepath \n",
        " * @return int, the number of node entries\n",
        " */\n",
        "int read_input_three(int** input1, int** input2, int** input3, int** input4,char* filepath){\n",
        "    FILE* fp = fopen(filepath, \"r\");\n",
        "    if (fp == NULL){\n",
        "     fprintf(stderr, \"Couldn't open file for reading\\n\");\n",
        "     exit(1);\n",
        "    }\n",
        "    \n",
        "    int counter = 0;\n",
        "    int len;\n",
        "    int length = fscanf(fp, \"%d\", &len);\n",
        "    *input1 = ( int *)malloc(len * sizeof(int));    // visited[i], either 0 or 1\n",
        "    *input2 = ( int *)malloc(len * sizeof(int));    // gate[i], see macros definitions\n",
        "    *input3 = ( int *)malloc(len * sizeof(int));    // input[i], fixed input to node i\n",
        "    *input4 = ( int *)malloc(len * sizeof(int));    // output[i], -1 if not computed\n",
        "\n",
        "    int temp1;\n",
        "    int temp2;\n",
        "    int temp3;\n",
        "    int temp4;\n",
        "    while (fscanf(fp, \"%d,%d,%d,%d\", &temp1, &temp2, &temp3, &temp4) == 4) {\n",
        "        (*input1)[counter] = temp1;\n",
        "        (*input2)[counter] = temp2;\n",
        "        (*input3)[counter] = temp3;\n",
        "        (*input4)[counter] = temp4;\n",
        "        counter++;\n",
        "    }\n",
        "\n",
        "    fclose(fp);\n",
        "    return len; // number of total nodes in circuit\n",
        "}\n",
        "\n",
        "void BFS(int* currLevelNodes, int numCurrLevelNodes, int* nodePtrs, int* nodeNeighbors, int* nodeVisited, int* nodeGate, int* nodeInput, int* nodeOutput, int* nextLevelNodes, int* numNextLevelNodes) {\n",
        "    // Traverse current level queue\n",
        "    for (int idx = 0; idx < numCurrLevelNodes; idx++) { // while idx < numCurrLevelNodes\n",
        "        int node = currLevelNodes[idx];\n",
        "        // Loop over all neighbors of the node\n",
        "        // printf(\"Nodeptrs+1 %d \\n\", nodePtrs[node + 1]);\n",
        "        for (int nbrIdx = nodePtrs[node]; nbrIdx < nodePtrs[node + 1]; nbrIdx++) {\n",
        "            int neighbor = nodeNeighbors[nbrIdx];\n",
        "            // If neighbor hasn't been visited yet\n",
        "            if (!nodeVisited[neighbor]) {\n",
        "                // Mark it as visited and add it to queue\n",
        "                nodeVisited[neighbor] = 1;\n",
        "                nodeOutput[neighbor] = gate_solver(nodeGate[neighbor], nodeInput[neighbor], nodeOutput[node]);\n",
        "                // printf(\"nextLevelNodes LEN %d index %d\", numNextLevelNodes);\n",
        "                nextLevelNodes[*numNextLevelNodes] = neighbor;\n",
        "                ++(*numNextLevelNodes);\n",
        "            }\n",
        "        }\n",
        "    }\n",
        "}\n",
        "\n",
        "int main(int argc, char *argv[]) {\n",
        "    if (argc != 7)\n",
        "    {\n",
        "        printf(\"\\nIncorrect number of arguments. Please run the program as follows:\\n\");\n",
        "        printf(\"./sequential <path_to_input_1.raw> <path_to_input_2.raw> <path_to_input_3.raw> <path_to_input_4.raw> <output_nodeOutput_filepath> <output_nextLevelNodes_filepath>\\n\");\n",
        "    }\n",
        "    \n",
        "    // Read input and output file names from command\n",
        "    char* input_1 = argv[1]; \n",
        "    char* input_2 = argv[2]; \n",
        "    char* input_3 = argv[3]; \n",
        "    char* input_4 = argv[4];\n",
        "    char* output_nodeOutput = argv[5]; \n",
        "    char* output_nextLevelNodes = argv[6];\n",
        "    \n",
        "    // Variables\n",
        "    int numNodePtrs;          \n",
        "    int numNodes;             \n",
        "    int *nodePtrs_h;          \n",
        "    int *nodeNeighbors_h;      \n",
        "    int *nodeVisited_h;   \n",
        "    int numTotalNeighbors_h;\n",
        "    int *currLevelNodes_h;\n",
        "    int numCurrLevelNodes;\n",
        "    int numNextLevelNodes_h;\n",
        "    int *nodeGate_h;\n",
        "    int *nodeInput_h;\n",
        "    int *nodeOutput_h;\n",
        "\n",
        "    int *nextLevelNodes_h; // to write in output file\n",
        "    nextLevelNodes_h = ( int *)malloc(MAX_QUEUE_SIZE * sizeof(int));\n",
        "    \n",
        "    numNextLevelNodes_h = 0;\n",
        "\n",
        "    numNodePtrs = read_input_one_two_four(&nodePtrs_h, input_1);\n",
        "\n",
        "    numTotalNeighbors_h = read_input_one_two_four(&nodeNeighbors_h, input_2);\n",
        "\n",
        "    numNodes = read_input_three(&nodeVisited_h, &nodeGate_h, &nodeInput_h, &nodeOutput_h, input_3);\n",
        "\n",
        "    numCurrLevelNodes = read_input_one_two_four(&currLevelNodes_h, input_4);\n",
        "    // Measure runtime of sequential BFS\n",
        "    clock_t startTime = clock();\n",
        "    BFS(currLevelNodes_h, numCurrLevelNodes, nodePtrs_h, nodeNeighbors_h, nodeVisited_h, nodeGate_h, nodeInput_h, nodeOutput_h, nextLevelNodes_h, &numNextLevelNodes_h);\n",
        "    clock_t stopTime = clock();\n",
        "\n",
        "    // CLOCKS_PER_SEC is the number of clock tics elapsed in a second, \n",
        "    // which gives us the precise CPU time consumed by a task\n",
        "    double totalTimeInMs = (((double)stopTime - (double)startTime) * 1000.0) / CLOCKS_PER_SEC;\n",
        "    // print total time elapsed for sequential gate simulation\n",
        "    printf(\"Sequential Simultation: %f ms\\n\", totalTimeInMs);\n",
        "\n",
        "    FILE* output_file_node = fopen(output_nodeOutput, \"w\"); \n",
        "    FILE* output_file_nextLevelNode = fopen(output_nextLevelNodes, \"w\");\n",
        "\n",
        "    // Print out the results\n",
        "    fprintf(output_file_node, \"%d\\n\", numNodes);\n",
        "    for (int i = 0; i < numNodes; i++) { \n",
        "        fprintf(output_file_node, \"%d\\n\", nodeOutput_h[i]); \n",
        "    }\n",
        "    fclose(output_file_node);\n",
        "\n",
        "    fprintf(output_file_nextLevelNode, \"%d\\n\", numNextLevelNodes_h);\n",
        "    for (int i = 0; i < numNextLevelNodes_h; i++) { \n",
        "        fprintf(output_file_nextLevelNode, \"%d\\n\", nextLevelNodes_h[i]); \n",
        "    }\n",
        "    fclose(output_file_nextLevelNode);\n",
        "}\n"
      ]
    },
    {
      "cell_type": "markdown",
      "source": [
        "### Compile and Run"
      ],
      "metadata": {
        "id": "LeyOTCbgaSDz"
      }
    },
    {
      "cell_type": "code",
      "source": [
        "!nvcc sequential.cu -o sequential"
      ],
      "metadata": {
        "colab": {
          "base_uri": "https://localhost:8080/"
        },
        "id": "LWkPwDpSaTRn",
        "outputId": "48b95281-b18b-41ba-c1f1-4a3364a82cec"
      },
      "execution_count": null,
      "outputs": [
        {
          "output_type": "stream",
          "name": "stdout",
          "text": [
            "sequential.cu(152): warning: variable \"numNodePtrs\" was set but never used\n",
            "\n",
            "sequential.cu(157): warning: variable \"numTotalNeighbors_h\" was set but never used\n",
            "\n"
          ]
        }
      ]
    },
    {
      "cell_type": "code",
      "source": [
        "!./sequential input1.raw input2.raw input3.raw input4.raw nodeOutput.raw nextLevelNodes.raw"
      ],
      "metadata": {
        "colab": {
          "base_uri": "https://localhost:8080/"
        },
        "id": "d0xsok0TSinY",
        "outputId": "03e5116b-d142-473d-b687-5044075d4c6c"
      },
      "execution_count": null,
      "outputs": [
        {
          "output_type": "stream",
          "name": "stdout",
          "text": [
            "Sequential Simultation: 2.272000 ms\n"
          ]
        }
      ]
    },
    {
      "cell_type": "markdown",
      "source": [
        "### Verify Results"
      ],
      "metadata": {
        "id": "As7XZ6NIZiHS"
      }
    },
    {
      "cell_type": "code",
      "source": [
        "!./compareNextLevelNodes sol_nextLevelNodes.raw nextLevelNodes.raw"
      ],
      "metadata": {
        "colab": {
          "base_uri": "https://localhost:8080/"
        },
        "id": "s5ENKP0LYy8A",
        "outputId": "eed27cce-d889-48bc-e4b5-0120185706f3"
      },
      "execution_count": null,
      "outputs": [
        {
          "output_type": "stream",
          "name": "stdout",
          "text": [
            "No errors!\n"
          ]
        }
      ]
    },
    {
      "cell_type": "code",
      "source": [
        "!./compareNodeOutput sol_nodeOutput.raw nodeOutput.raw"
      ],
      "metadata": {
        "id": "LPdz8yVKebY2",
        "colab": {
          "base_uri": "https://localhost:8080/"
        },
        "outputId": "7f758e43-318a-4edd-9be0-3f38fe25479d"
      },
      "execution_count": null,
      "outputs": [
        {
          "output_type": "stream",
          "name": "stdout",
          "text": [
            "Total Errors : 0\t"
          ]
        }
      ]
    },
    {
      "cell_type": "markdown",
      "source": [
        "# Parallel BFS (global queue)"
      ],
      "metadata": {
        "id": "jwzA2P6laUWX"
      }
    },
    {
      "cell_type": "code",
      "source": [
        "%%writefile global_queuing.cu\n",
        "#include <stdio.h>\n",
        "#include <stdlib.h>\n",
        "// CUDA runtime\n",
        "#include <cuda_runtime.h>\n",
        "#include <device_launch_parameters.h>\n",
        "\n",
        "#define MAX_QUEUE_SIZE 200000\n",
        "// #define BLOCK_SIZE 32 // blockSize (32, 64, 128)\n",
        "// #define NUM_BLOCKS 10 // numBlock (10, 25, 35)\n",
        "\n",
        "#define AND 0\n",
        "#define OR 1\n",
        "#define NAND 2\n",
        "#define NOR 3\n",
        "#define XOR 4\n",
        "#define XNOR 5\n",
        "\n",
        "__device__ int numNextLevelNodes_d = 0;\n",
        "\n",
        "// Macro for Cuda Debugging\n",
        "#define gpuErrorCheck(ans) { gpuAssert((ans), __FILE__, __LINE__); }\n",
        "inline void gpuAssert(cudaError_t code, const char *file, int line, bool abort=true)\n",
        "{\n",
        "   if (code != cudaSuccess) \n",
        "   {\n",
        "      fprintf(stderr,\"GPUassert: %s %s %d\\n\", cudaGetErrorString(code), file, line);\n",
        "      if (abort) exit(code);\n",
        "   }\n",
        "}\n",
        "\n",
        "\n",
        "__device__ int gate_solver(int gate, int input1, int input2) {\n",
        "    int output;\n",
        "    switch (gate) {\n",
        "            case AND:\n",
        "                output = input1 && input2;\n",
        "                break;\n",
        "            case OR:\n",
        "                output = input1 || input2;\n",
        "                break;\n",
        "            case NAND:\n",
        "                output = !(input1 && input2);\n",
        "                break;\n",
        "            case NOR:\n",
        "                output = !(input1 || input2);\n",
        "                break;\n",
        "            case XOR:\n",
        "                output = (input1 || input2) && !(input1 && input2);\n",
        "                break;\n",
        "            case XNOR:\n",
        "                output = (input1 && input2) || (!input1 && !input2);\n",
        "                break;\n",
        "    }\n",
        "    return output;\n",
        "}\n",
        "\n",
        "/**\n",
        " * @brief Reads an input file containing length L in first line and one integer for each of the next L lines, storing the values in the integer array provided.\n",
        " * \n",
        " * @param input1 pointer to an integer array to store the data\n",
        " * @param filepath character array, name of input file to open\n",
        " * @return int, length of resulting array\n",
        " */\n",
        "int read_input_one_two_four(int **input1, char* filepath){\n",
        "    FILE* fp = fopen(filepath, \"r\");\n",
        "    if (fp == NULL){\n",
        "     fprintf(stderr, \"Couldn't open file for reading\\n\");\n",
        "     exit(1);\n",
        "    }\n",
        "    \n",
        "    int counter = 0;\n",
        "    int len;\n",
        "    int length = fscanf(fp, \"%d\", &len);\n",
        "    \n",
        "    // Allocate len entries and assign the pointer to out input reference\n",
        "    *input1 = ( int *)malloc(len * sizeof(int));\n",
        "    int temp1;\n",
        "    \n",
        "    // read line by line, one integer per line\n",
        "    while (fscanf(fp, \"%d\", &temp1) == 1) {\n",
        "        (*input1)[counter] = temp1;\n",
        "\n",
        "        counter++;\n",
        "    }\n",
        "\n",
        "    fclose(fp);\n",
        "    return len;\n",
        "\n",
        "}\n",
        "\n",
        "/**\n",
        " * @brief Reads a CSV formatted file with information for every node gate.\n",
        " * \n",
        " * @param input1 Pointer to Visited array\n",
        " * @param input2 Pointer to Logic Gate types array\n",
        " * @param input3 Pointer to Logic Gate inputs array\n",
        " * @param input4 Pointer to Logic Gate outputs array\n",
        " * @param filepath \n",
        " * @return int, the number of node entries\n",
        " */\n",
        "int read_input_three(int** input1, int** input2, int** input3, int** input4,char* filepath){\n",
        "    FILE* fp = fopen(filepath, \"r\");\n",
        "    if (fp == NULL){\n",
        "     fprintf(stderr, \"Couldn't open file for reading\\n\");\n",
        "     exit(1);\n",
        "    }\n",
        "    \n",
        "    int counter = 0;\n",
        "    int len;\n",
        "    int length = fscanf(fp, \"%d\", &len);\n",
        "    *input1 = ( int *)malloc(len * sizeof(int));    // visited[i], either 0 or 1\n",
        "    *input2 = ( int *)malloc(len * sizeof(int));    // gate[i], see macros definitions\n",
        "    *input3 = ( int *)malloc(len * sizeof(int));    // input[i], fixed input to node i\n",
        "    *input4 = ( int *)malloc(len * sizeof(int));    // output[i], -1 if not computed\n",
        "\n",
        "    int temp1;\n",
        "    int temp2;\n",
        "    int temp3;\n",
        "    int temp4;\n",
        "    while (fscanf(fp, \"%d,%d,%d,%d\", &temp1, &temp2, &temp3, &temp4) == 4) {\n",
        "        (*input1)[counter] = temp1;\n",
        "        (*input2)[counter] = temp2;\n",
        "        (*input3)[counter] = temp3;\n",
        "        (*input4)[counter] = temp4;\n",
        "        counter++;\n",
        "    }\n",
        "\n",
        "    fclose(fp);\n",
        "    return len; // number of total nodes in circuit\n",
        "}\n",
        "\n",
        "\n",
        "__global__ void globalQueueBFS(int* currLevelNodes, int numCurrLevelNodes, int* nodePtrs, int* nodeNeighbors, int* nodeVisited, int* nodeGate, int* nodeInput, int* nodeOutput, int* nextLevelNodes, int nodes_per_thread) {\n",
        "    \n",
        "    const unsigned int tid = (blockIdx.x * blockDim.x) + threadIdx.x;\n",
        "\n",
        "    const unsigned int start = tid * nodes_per_thread;\n",
        "    const int thread_limit = start + nodes_per_thread;\n",
        "    const bool debug = tid == 0; \n",
        "\n",
        "    for (unsigned int idx = start; idx < thread_limit && idx < numCurrLevelNodes; idx++) {\n",
        "        // get the node\n",
        "        unsigned int node = currLevelNodes[idx];\n",
        "\n",
        "        // Loop through neighbors\n",
        "        for (unsigned int nbrIdx = nodePtrs[node]; nbrIdx < nodePtrs[node + 1]; nbrIdx++) {\n",
        "            int neighbor = nodeNeighbors[nbrIdx];\n",
        "            // If neighbor hasn't been visited yet\n",
        "            int already_visited = atomicExch(&(nodeVisited[neighbor]), 1);\n",
        "            if (!already_visited) {\n",
        "                int output = gate_solver(nodeGate[neighbor], nodeInput[neighbor], nodeOutput[node]);\n",
        "                nodeOutput[neighbor] = output;\n",
        "                // Atomically add to queue\n",
        "                int new_i = atomicAdd(&numNextLevelNodes_d, 1);\n",
        "                nextLevelNodes[new_i] = neighbor;\n",
        "\n",
        "                // if (debug) {\n",
        "                //     printf(\"Result nextQueue[%d]=%d\\n\", new_i, nextLevelNodes[new_i]);\n",
        "                // }\n",
        "            }\n",
        "        }\n",
        "    }\n",
        "    // printf(\"Thread %d finished processing queue %d-%d\\n\", tid, start, start + thread_limit);\n",
        "\n",
        "}\n",
        "\n",
        "\n",
        "int main(int argc, char *argv[]) {\n",
        "    // Variables\n",
        "    if (argc != 9)\n",
        "    {\n",
        "        printf(\"\\nIncorrect number of arguments. Please run the program as follows:\\n\");\n",
        "        printf(\"./global_queuing <numBlock> <blockSize> <path_to_input_1.raw> <path_to_input_2.raw> <path_to_input_3.raw> <path_to_input_4.raw> <output_nodeOutput_filepath> <output_nextLevelNodes_filepath>\\n\");\n",
        "    }\n",
        "    // Read input and output file names from command\n",
        "    int numBlock;\n",
        "    int blockSize; \n",
        "    sscanf(argv[1], \"%d\", &numBlock);\n",
        "    sscanf(argv[2], \"%d\", &blockSize);\n",
        "\n",
        "    char* input_1 = argv[3]; \n",
        "    char* input_2 = argv[4]; \n",
        "    char* input_3 = argv[5];\n",
        "    char* input_4 = argv[6];\n",
        "    char* output_nodeOutput = argv[7]; \n",
        "    char* output_nextLevelNodes = argv[8];\n",
        "    \n",
        "    // Variables\n",
        "    int numNodePtrs;          \n",
        "    int numNodes;             \n",
        "    int *nodePtrs_h;          \n",
        "    int *nodeNeighbors_h;      \n",
        "    int *nodeVisited_h;   \n",
        "    int numTotalNeighbors_h;\n",
        "    int *currLevelNodes_h;\n",
        "    int numCurrLevelNodes;\n",
        "    int numNextLevelNodes_h;\n",
        "    int *nodeGate_h;\n",
        "    int *nodeInput_h;\n",
        "    int *nodeOutput_h;\n",
        "    \n",
        "    numNextLevelNodes_h = 0;\n",
        "    numNodePtrs = read_input_one_two_four(&nodePtrs_h, input_1);\n",
        "    numTotalNeighbors_h = read_input_one_two_four(&nodeNeighbors_h, input_2);\n",
        "    numNodes = read_input_three(&nodeVisited_h, &nodeGate_h, &nodeInput_h, &nodeOutput_h, input_3);\n",
        "    numCurrLevelNodes = read_input_one_two_four(&currLevelNodes_h, input_4);\n",
        "    \n",
        "    // Allocate GPU Memory \n",
        "\n",
        "    int *nodePtrs_d;          \n",
        "    int *nodeNeighbors_d;      \n",
        "    int *nodeVisited_d;   \n",
        "    int numTotalNeighbors_d;\n",
        "    int *currLevelNodes_d;\n",
        "    int *nodeGate_d;\n",
        "    int *nodeInput_d;\n",
        "    int *nodeOutput_d;\n",
        "\n",
        "    int* nextLevelNodes_d;\n",
        "    gpuErrorCheck(cudaMalloc((void **)&nextLevelNodes_d, MAX_QUEUE_SIZE * sizeof(int)));\n",
        "    gpuErrorCheck(cudaMalloc((void **)&nodeVisited_d, numNodes * sizeof(int)));\n",
        "    gpuErrorCheck(cudaMalloc((void **)&nodePtrs_d, numNodePtrs * sizeof(int)));\n",
        "    gpuErrorCheck(cudaMalloc((void **)&nodeNeighbors_d, numTotalNeighbors_h * sizeof(int)));\n",
        "    gpuErrorCheck(cudaMalloc((void **)&currLevelNodes_d, numCurrLevelNodes * sizeof(int)));\n",
        "    gpuErrorCheck(cudaMalloc((void **)&nodeGate_d, numNodes * sizeof(int)));\n",
        "    gpuErrorCheck(cudaMalloc((void **)&nodeInput_d, numNodes * sizeof(int)));\n",
        "    gpuErrorCheck(cudaMalloc((void **)&nodeOutput_d, numNodes * sizeof(int)));\n",
        "\n",
        "    gpuErrorCheck(cudaMemcpy(nodeVisited_d, nodeVisited_h, numNodes * sizeof(int), cudaMemcpyHostToDevice));\n",
        "    gpuErrorCheck(cudaMemcpy(nodePtrs_d, nodePtrs_h, numNodePtrs * sizeof(int), cudaMemcpyHostToDevice));\n",
        "    gpuErrorCheck(cudaMemcpy(nodeNeighbors_d, nodeNeighbors_h, numTotalNeighbors_h * sizeof(int), cudaMemcpyHostToDevice));\n",
        "    gpuErrorCheck(cudaMemcpy(currLevelNodes_d, currLevelNodes_h, numCurrLevelNodes * sizeof(int), cudaMemcpyHostToDevice));\n",
        "    gpuErrorCheck(cudaMemcpy(nodeGate_d, nodeGate_h, numNodes * sizeof(int), cudaMemcpyHostToDevice));\n",
        "    gpuErrorCheck(cudaMemcpy(nodeInput_d, nodeInput_h, numNodes * sizeof(int), cudaMemcpyHostToDevice));\n",
        "    gpuErrorCheck(cudaMemcpy(nodeOutput_d, nodeOutput_h, numNodes * sizeof(int), cudaMemcpyHostToDevice));\n",
        "\n",
        "\n",
        "    // Start timer\n",
        "    float memsettime;\n",
        "    cudaEvent_t start, stop;\n",
        "    gpuErrorCheck(cudaEventCreate(&start));\n",
        "    gpuErrorCheck(cudaEventCreate(&stop));\n",
        "    gpuErrorCheck(cudaEventRecord(start, 0));\n",
        "\n",
        "    // CALL THE KERNEL\n",
        "    printf(\"%d Blocks, %d Threads/Block\\n\", numBlock, blockSize);\n",
        "\n",
        "    int capacity = numBlock * blockSize;\n",
        "    int remainder = (int)((numCurrLevelNodes % capacity) > 0);\n",
        "    int nodes_per_thread = (numCurrLevelNodes / capacity) + remainder;\n",
        "    printf(\"%d Nodes per Thread\\n\", nodes_per_thread);\n",
        "    globalQueueBFS<<<numBlock, blockSize>>>(currLevelNodes_d, numCurrLevelNodes, nodePtrs_d, nodeNeighbors_d, nodeVisited_d, nodeGate_d, nodeInput_d, nodeOutput_d, nextLevelNodes_d, nodes_per_thread);\n",
        "    cudaDeviceSynchronize();\n",
        "\n",
        "    // Stop timer\n",
        "    gpuErrorCheck(cudaEventRecord(stop, 0));\n",
        "    gpuErrorCheck(cudaEventSynchronize(stop));\n",
        "    gpuErrorCheck(cudaEventElapsedTime(&memsettime, start, stop));\n",
        "    // print total time elapsed for global queuing gate simulation\n",
        "    printf(\"*** Global Queuing Execution Time: %f ms***\\n\", memsettime);\n",
        "\n",
        "    gpuErrorCheck(cudaEventDestroy(start));\n",
        "    gpuErrorCheck(cudaEventDestroy(stop));\n",
        "\n",
        "    // Cleanup;\n",
        "    cudaFree(nodePtrs_d);\n",
        "    free(nodePtrs_h);\n",
        "    cudaFree(nodeNeighbors_d);\n",
        "    free(nodeNeighbors_h);\n",
        "    cudaFree(nodeVisited_d);\n",
        "    free(nodeVisited_h);\n",
        "    cudaFree(currLevelNodes_d);\n",
        "    free(currLevelNodes_h);\n",
        "    cudaFree(nodeGate_d);\n",
        "    free(nodeGate_h);\n",
        "    cudaFree(nodeInput_d);\n",
        "    free(nodeInput_h);\n",
        "\n",
        "    // Copy results\n",
        "    gpuErrorCheck(cudaMemcpyFromSymbol(&numNextLevelNodes_h, numNextLevelNodes_d, sizeof(int)));\n",
        "    int *nodeOutputResult;\n",
        "    nodeOutputResult = (int*)malloc(numNodes*sizeof(int)); \n",
        "    gpuErrorCheck(cudaMemcpy(nodeOutputResult, nodeOutput_d, numNodes*sizeof(int), cudaMemcpyDeviceToHost));\n",
        "\n",
        "    int *nextLevelNodes_h; // to write in output file\n",
        "    nextLevelNodes_h = ( int *)malloc(numNextLevelNodes_h * sizeof(int));\n",
        "\n",
        "    gpuErrorCheck(cudaMemcpy(nextLevelNodes_h, nextLevelNodes_d, numNextLevelNodes_h * sizeof(int), cudaMemcpyDeviceToHost));\n",
        "\n",
        "    FILE* output_file_node = fopen(output_nodeOutput, \"w\");\n",
        "    FILE* output_file_nextLevelNode = fopen(output_nextLevelNodes, \"w\");\n",
        "\n",
        "    // Print out the results\n",
        "    fprintf(output_file_node, \"%d\\n\", numNodes);\n",
        "    for (int i = 0; i < numNodes; i++) { \n",
        "        fprintf(output_file_node, \"%d\\n\", nodeOutputResult[i]); \n",
        "    }\n",
        "    fclose(output_file_node);\n",
        "\n",
        "    fprintf(output_file_nextLevelNode, \"%d\\n\", numNextLevelNodes_h);\n",
        "    for (int i = 0; i < numNextLevelNodes_h; i++) { \n",
        "        fprintf(output_file_nextLevelNode, \"%d\\n\", nextLevelNodes_h[i]); \n",
        "    }\n",
        "    fclose(output_file_nextLevelNode);\n",
        "}"
      ],
      "metadata": {
        "colab": {
          "base_uri": "https://localhost:8080/"
        },
        "id": "veuS5UqiaWKX",
        "outputId": "62a123a0-0fca-4b9e-e177-371a9a47c967"
      },
      "execution_count": null,
      "outputs": [
        {
          "output_type": "stream",
          "name": "stdout",
          "text": [
            "Writing global_queuing.cu\n"
          ]
        }
      ]
    },
    {
      "cell_type": "markdown",
      "source": [
        "## Compile and Run"
      ],
      "metadata": {
        "id": "zgH36VSkAd4e"
      }
    },
    {
      "cell_type": "code",
      "source": [
        "!nvcc global_queuing.cu -o global_queuing"
      ],
      "metadata": {
        "colab": {
          "base_uri": "https://localhost:8080/"
        },
        "id": "DkdWrVD1AfZM",
        "outputId": "0c69b9eb-a49f-41c1-9348-52d9aa775576"
      },
      "execution_count": null,
      "outputs": [
        {
          "output_type": "stream",
          "name": "stdout",
          "text": [
            "global_queuing.cu(139): warning: variable \"debug\" was declared but never referenced\n",
            "\n",
            "global_queuing.cu(213): warning: variable \"numTotalNeighbors_d\" was declared but never referenced\n",
            "\n"
          ]
        }
      ]
    },
    {
      "cell_type": "markdown",
      "source": [
        "### 10 blocks, 32 threads per block "
      ],
      "metadata": {
        "id": "L0P2Lct_kQwC"
      }
    },
    {
      "cell_type": "code",
      "source": [
        "!./global_queuing 10 32 input1.raw input2.raw input3.raw input4.raw nodeOutput.raw nextLevelNodes.raw"
      ],
      "metadata": {
        "colab": {
          "base_uri": "https://localhost:8080/"
        },
        "id": "RCYDcnZPBjGU",
        "outputId": "3fe187ab-506f-47c3-b87d-259d16a58735"
      },
      "execution_count": null,
      "outputs": [
        {
          "output_type": "stream",
          "name": "stdout",
          "text": [
            "10 Blocks, 32 Threads/Block\n",
            "32 Nodes per Thread\n",
            "*** Global Queuing Execution Time: 0.576576 ms***\n"
          ]
        }
      ]
    },
    {
      "cell_type": "markdown",
      "source": [
        "### 25 blocks, 32 threads per block "
      ],
      "metadata": {
        "id": "cz9qBv0wkf-M"
      }
    },
    {
      "cell_type": "code",
      "source": [
        "!./global_queuing 25 32 input1.raw input2.raw input3.raw input4.raw nodeOutput.raw nextLevelNodes.raw"
      ],
      "metadata": {
        "id": "B65fndrsjk71",
        "colab": {
          "base_uri": "https://localhost:8080/"
        },
        "outputId": "a120a1ae-9e35-42b8-e6c2-ed00dd330a9c"
      },
      "execution_count": null,
      "outputs": [
        {
          "output_type": "stream",
          "name": "stdout",
          "text": [
            "25 Blocks, 32 Threads/Block\n",
            "13 Nodes per Thread\n",
            "*** Global Queuing Execution Time: 0.243904 ms***\n"
          ]
        }
      ]
    },
    {
      "cell_type": "markdown",
      "source": [
        "### 35 blocks, 32 threads per block "
      ],
      "metadata": {
        "id": "tXLr5FXxkjVh"
      }
    },
    {
      "cell_type": "code",
      "source": [
        "!./global_queuing 35 32 input1.raw input2.raw input3.raw input4.raw nodeOutput.raw nextLevelNodes.raw"
      ],
      "metadata": {
        "id": "K-aeAsK3jlJD",
        "colab": {
          "base_uri": "https://localhost:8080/"
        },
        "outputId": "a27aef28-4a46-47ae-80ec-571f959e3f85"
      },
      "execution_count": null,
      "outputs": [
        {
          "output_type": "stream",
          "name": "stdout",
          "text": [
            "35 Blocks, 32 Threads/Block\n",
            "9 Nodes per Thread\n",
            "*** Global Queuing Execution Time: 0.174528 ms***\n"
          ]
        }
      ]
    },
    {
      "cell_type": "markdown",
      "source": [
        "### 10 blocks, 64 threads per block "
      ],
      "metadata": {
        "id": "jFPiObIwkmbp"
      }
    },
    {
      "cell_type": "code",
      "source": [
        "!./global_queuing 10 64 input1.raw input2.raw input3.raw input4.raw nodeOutput.raw nextLevelNodes.raw"
      ],
      "metadata": {
        "id": "qd79xRAwjlP5",
        "colab": {
          "base_uri": "https://localhost:8080/"
        },
        "outputId": "7c984a5a-b6df-4da0-b068-868abe2a3580"
      },
      "execution_count": null,
      "outputs": [
        {
          "output_type": "stream",
          "name": "stdout",
          "text": [
            "10 Blocks, 64 Threads/Block\n",
            "16 Nodes per Thread\n",
            "*** Global Queuing Execution Time: 0.300896 ms***\n"
          ]
        }
      ]
    },
    {
      "cell_type": "markdown",
      "source": [
        "### 25 blocks, 64 threads per block "
      ],
      "metadata": {
        "id": "rd-K1fD9kq8j"
      }
    },
    {
      "cell_type": "code",
      "source": [
        "!./global_queuing 25 64 input1.raw input2.raw input3.raw input4.raw nodeOutput.raw nextLevelNodes.raw"
      ],
      "metadata": {
        "id": "t_Ir5v4LjlWm",
        "colab": {
          "base_uri": "https://localhost:8080/"
        },
        "outputId": "e6232fc5-0f77-4298-f9a6-3c7f9b9d7534"
      },
      "execution_count": null,
      "outputs": [
        {
          "output_type": "stream",
          "name": "stdout",
          "text": [
            "25 Blocks, 64 Threads/Block\n",
            "7 Nodes per Thread\n",
            "*** Global Queuing Execution Time: 0.149664 ms***\n"
          ]
        }
      ]
    },
    {
      "cell_type": "markdown",
      "source": [
        "### 35 blocks, 64 threads per block "
      ],
      "metadata": {
        "id": "lARiJsD2kuIb"
      }
    },
    {
      "cell_type": "code",
      "source": [
        "!./global_queuing 35 64 input1.raw input2.raw input3.raw input4.raw nodeOutput.raw nextLevelNodes.raw"
      ],
      "metadata": {
        "id": "PSRYf2lnjlcV",
        "colab": {
          "base_uri": "https://localhost:8080/"
        },
        "outputId": "2e5937ce-48b4-4309-922a-98583f0770ff"
      },
      "execution_count": null,
      "outputs": [
        {
          "output_type": "stream",
          "name": "stdout",
          "text": [
            "35 Blocks, 64 Threads/Block\n",
            "5 Nodes per Thread\n",
            "*** Global Queuing Execution Time: 0.113728 ms***\n"
          ]
        }
      ]
    },
    {
      "cell_type": "markdown",
      "source": [
        "### 10 blocks, 128 threads per block "
      ],
      "metadata": {
        "id": "H5VxNsVxkyVY"
      }
    },
    {
      "cell_type": "code",
      "source": [
        "!./global_queuing 10 128 input1.raw input2.raw input3.raw input4.raw nodeOutput.raw nextLevelNodes.raw"
      ],
      "metadata": {
        "id": "bMMqgxa0jli8",
        "colab": {
          "base_uri": "https://localhost:8080/"
        },
        "outputId": "ee90e72b-8ac4-4b04-8266-ab639792ae68"
      },
      "execution_count": null,
      "outputs": [
        {
          "output_type": "stream",
          "name": "stdout",
          "text": [
            "10 Blocks, 128 Threads/Block\n",
            "8 Nodes per Thread\n",
            "*** Global Queuing Execution Time: 0.170688 ms***\n"
          ]
        }
      ]
    },
    {
      "cell_type": "markdown",
      "source": [
        "### 25 blocks, 128 threads per block "
      ],
      "metadata": {
        "id": "-xDGyc9Sk1Ix"
      }
    },
    {
      "cell_type": "code",
      "source": [
        "!./global_queuing 25 128 input1.raw input2.raw input3.raw input4.raw nodeOutput.raw nextLevelNodes.raw"
      ],
      "metadata": {
        "id": "Kxr5v57YjpTb",
        "colab": {
          "base_uri": "https://localhost:8080/"
        },
        "outputId": "ea568705-9c37-419f-fef4-bd7d0230f2c7"
      },
      "execution_count": null,
      "outputs": [
        {
          "output_type": "stream",
          "name": "stdout",
          "text": [
            "25 Blocks, 128 Threads/Block\n",
            "4 Nodes per Thread\n",
            "*** Global Queuing Execution Time: 0.097024 ms***\n"
          ]
        }
      ]
    },
    {
      "cell_type": "markdown",
      "source": [
        "### 35 blocks, 128 threads per block "
      ],
      "metadata": {
        "id": "MaOmgENek6e1"
      }
    },
    {
      "cell_type": "code",
      "source": [
        "!./global_queuing 35 128 input1.raw input2.raw input3.raw input4.raw nodeOutput.raw nextLevelNodes.raw"
      ],
      "metadata": {
        "id": "lOsUA05tkHtx",
        "colab": {
          "base_uri": "https://localhost:8080/"
        },
        "outputId": "403b4fbd-dc8f-494a-b283-3fb27af846e9"
      },
      "execution_count": null,
      "outputs": [
        {
          "output_type": "stream",
          "name": "stdout",
          "text": [
            "35 Blocks, 128 Threads/Block\n",
            "3 Nodes per Thread\n",
            "*** Global Queuing Execution Time: 0.075616 ms***\n"
          ]
        }
      ]
    },
    {
      "cell_type": "markdown",
      "source": [
        "### Verify Results"
      ],
      "metadata": {
        "id": "d-Tt0R1EKcPi"
      }
    },
    {
      "cell_type": "code",
      "source": [
        "!./compareNextLevelNodes sol_nextLevelNodes.raw nextLevelNodes.raw"
      ],
      "metadata": {
        "colab": {
          "base_uri": "https://localhost:8080/"
        },
        "outputId": "821a99bf-aae4-4d87-bda2-860e8bfe14a6",
        "id": "UR3pxm37KcPi"
      },
      "execution_count": null,
      "outputs": [
        {
          "output_type": "stream",
          "name": "stdout",
          "text": [
            "No errors!\n"
          ]
        }
      ]
    },
    {
      "cell_type": "code",
      "source": [
        "!./compareNodeOutput sol_nodeOutput.raw nodeOutput.raw"
      ],
      "metadata": {
        "colab": {
          "base_uri": "https://localhost:8080/"
        },
        "id": "s6VAuzT7KcPi",
        "outputId": "48ea5e35-07cf-4016-f9d8-52d32e6bc8f4"
      },
      "execution_count": null,
      "outputs": [
        {
          "output_type": "stream",
          "name": "stdout",
          "text": [
            "Total Errors : 0\t"
          ]
        }
      ]
    },
    {
      "cell_type": "markdown",
      "source": [
        "# Parallel BFS (block-level queues)"
      ],
      "metadata": {
        "id": "2yTICMLwaWtY"
      }
    },
    {
      "cell_type": "code",
      "source": [
        "%%writefile block_queuing.cu\n",
        "#include <stdio.h>\n",
        "#include <stdlib.h>\n",
        "// CUDA runtime\n",
        "#include <cuda_runtime.h>\n",
        "#include <device_launch_parameters.h>\n",
        "\n",
        "#define MAX_QUEUE_SIZE 200000\n",
        "#define MAX_BLOCK_QUEUE_SIZE 2000\n",
        "\n",
        "#define AND 0\n",
        "#define OR 1\n",
        "#define NAND 2\n",
        "#define NOR 3\n",
        "#define XOR 4\n",
        "#define XNOR 5\n",
        "\n",
        "__device__ int numNextLevelNodes_d = 0;\n",
        "\n",
        "// Macro for Cuda Debugging\n",
        "#define gpuErrorCheck(ans) { gpuAssert((ans), __FILE__, __LINE__); }\n",
        "inline void gpuAssert(cudaError_t code, const char *file, int line, bool abort=true)\n",
        "{\n",
        "   if (code != cudaSuccess) \n",
        "   {\n",
        "      fprintf(stderr,\"GPUassert: %s %s %d\\n\", cudaGetErrorString(code), file, line);\n",
        "      if (abort) exit(code);\n",
        "   }\n",
        "}\n",
        "\n",
        "\n",
        "__device__ int gate_solver(int gate, int input1, int input2) {\n",
        "    int output;\n",
        "    switch (gate) {\n",
        "            case AND:\n",
        "                output = input1 && input2;\n",
        "                break;\n",
        "            case OR:\n",
        "                output = input1 || input2;\n",
        "                break;\n",
        "            case NAND:\n",
        "                output = !(input1 && input2);\n",
        "                break;\n",
        "            case NOR:\n",
        "                output = !(input1 || input2);\n",
        "                break;\n",
        "            case XOR:\n",
        "                output = (input1 || input2) && !(input1 && input2);\n",
        "                break;\n",
        "            case XNOR:\n",
        "                output = (input1 && input2) || (!input1 && !input2);\n",
        "                break;\n",
        "    }\n",
        "    return output;\n",
        "}\n",
        "\n",
        "/**\n",
        " * @brief Reads an input file containing length L in first line and one integer for each of the next L lines, storing the values in the integer array provided.\n",
        " * \n",
        " * @param input1 pointer to an integer array to store the data\n",
        " * @param filepath character array, name of input file to open\n",
        " * @return int, length of resulting array\n",
        " */\n",
        "int read_input_one_two_four(int **input1, char* filepath){\n",
        "    FILE* fp = fopen(filepath, \"r\");\n",
        "    if (fp == NULL){\n",
        "     fprintf(stderr, \"Couldn't open file for reading\\n\");\n",
        "     exit(1);\n",
        "    }\n",
        "    \n",
        "    int counter = 0;\n",
        "    int len;\n",
        "    int length = fscanf(fp, \"%d\", &len);\n",
        "    \n",
        "    // Allocate len entries and assign the pointer to out input reference\n",
        "    *input1 = ( int *)malloc(len * sizeof(int));\n",
        "    int temp1;\n",
        "    \n",
        "    // read line by line, one integer per line\n",
        "    while (fscanf(fp, \"%d\", &temp1) == 1) {\n",
        "        (*input1)[counter] = temp1;\n",
        "\n",
        "        counter++;\n",
        "    }\n",
        "\n",
        "    fclose(fp);\n",
        "    return len;\n",
        "\n",
        "}\n",
        "\n",
        "/**\n",
        " * @brief Reads a CSV formatted file with information for every node gate.\n",
        " * \n",
        " * @param input1 Pointer to Visited array\n",
        " * @param input2 Pointer to Logic Gate types array\n",
        " * @param input3 Pointer to Logic Gate inputs array\n",
        " * @param input4 Pointer to Logic Gate outputs array\n",
        " * @param filepath \n",
        " * @return int, the number of node entries\n",
        " */\n",
        "int read_input_three(int** input1, int** input2, int** input3, int** input4,char* filepath){\n",
        "    FILE* fp = fopen(filepath, \"r\");\n",
        "    if (fp == NULL){\n",
        "     fprintf(stderr, \"Couldn't open file for reading\\n\");\n",
        "     exit(1);\n",
        "    }\n",
        "    \n",
        "    int counter = 0;\n",
        "    int len;\n",
        "    int length = fscanf(fp, \"%d\", &len);\n",
        "    *input1 = ( int *)malloc(len * sizeof(int));    // visited[i], either 0 or 1\n",
        "    *input2 = ( int *)malloc(len * sizeof(int));    // gate[i], see macros definitions\n",
        "    *input3 = ( int *)malloc(len * sizeof(int));    // input[i], fixed input to node i\n",
        "    *input4 = ( int *)malloc(len * sizeof(int));    // output[i], -1 if not computed\n",
        "\n",
        "    int temp1;\n",
        "    int temp2;\n",
        "    int temp3;\n",
        "    int temp4;\n",
        "    while (fscanf(fp, \"%d,%d,%d,%d\", &temp1, &temp2, &temp3, &temp4) == 4) {\n",
        "        (*input1)[counter] = temp1;\n",
        "        (*input2)[counter] = temp2;\n",
        "        (*input3)[counter] = temp3;\n",
        "        (*input4)[counter] = temp4;\n",
        "        counter++;\n",
        "    }\n",
        "\n",
        "    fclose(fp);\n",
        "    return len; // number of total nodes in circuit\n",
        "}\n",
        "\n",
        "\n",
        "__global__ void blockLevelQueueBFS(int* currLevelNodes, int numCurrLevelNodes, int* nodePtrs, int* nodeNeighbors, int* nodeVisited, int* nodeGate, int* nodeInput, int* nodeOutput, int* nextLevelNodes, int nodes_per_thread, int BLOCK_QUEUE_SIZE) {\n",
        "    \n",
        "    __shared__ unsigned int block_queue[MAX_BLOCK_QUEUE_SIZE];\n",
        "    __shared__ unsigned int blockQueueTail,  globalQueueOffset; // rename\n",
        "\n",
        "    if (threadIdx.x == 0) {\n",
        "        blockQueueTail = 0;\n",
        "    }\n",
        "    __syncthreads();    // do not proceed until all threads have reached this point.\n",
        "\n",
        "    const unsigned int tid = (blockIdx.x * blockDim.x) + threadIdx.x;\n",
        "\n",
        "    const unsigned int start = tid * nodes_per_thread;\n",
        "    const int thread_limit = start + nodes_per_thread;\n",
        "\n",
        "    for (unsigned int idx = start; idx < thread_limit && idx < numCurrLevelNodes; idx++) {\n",
        "        // get the node\n",
        "        unsigned int node = currLevelNodes[idx];\n",
        "\n",
        "        // Loop through neighbors\n",
        "        for (unsigned int nbrIdx = nodePtrs[node]; nbrIdx < nodePtrs[node + 1]; nbrIdx++) {\n",
        "            int neighbor = nodeNeighbors[nbrIdx];\n",
        "            // If neighbor hasn't been visited yet\n",
        "            int already_visited = atomicExch(&(nodeVisited[neighbor]), 1);\n",
        "            if (!already_visited) {\n",
        "                int output = gate_solver(nodeGate[neighbor], nodeInput[neighbor], nodeOutput[node]);\n",
        "                nodeOutput[neighbor] = output;\n",
        "                int new_tail = atomicAdd(&blockQueueTail, 1); // check\n",
        "                \n",
        "                if (new_tail < BLOCK_QUEUE_SIZE) {\n",
        "                    // Add to block level queue\n",
        "                    block_queue[new_tail] = neighbor;\n",
        "                } else {\n",
        "                    blockQueueTail = BLOCK_QUEUE_SIZE;\n",
        "                    // Atomically add to Global queue\n",
        "                    int new_i = atomicAdd(&numNextLevelNodes_d, 1); // check\n",
        "                    nextLevelNodes[new_i] = neighbor;\n",
        "                }\n",
        "            }\n",
        "        }\n",
        "    }\n",
        "\n",
        "    __syncthreads();\n",
        "    if (threadIdx.x == 0) {\n",
        "        globalQueueOffset = atomicAdd(&numNextLevelNodes_d, blockQueueTail);\n",
        "    }\n",
        "\n",
        "    __syncthreads();\n",
        "    // Copy our block's queue into the global queue, splitting work evenly among blockDim.x threads\n",
        "    for (unsigned int i = threadIdx.x; i < blockQueueTail; i += blockDim.x) {\n",
        "            nextLevelNodes[globalQueueOffset + i] = block_queue[i];\n",
        "    }\n",
        "\n",
        "}\n",
        "\n",
        "\n",
        "int main(int argc, char *argv[]) {\n",
        "    // Variables\n",
        "    if (argc != 10)\n",
        "    {\n",
        "        printf(\"\\nIncorrect number of arguments. Please run the program as follows:\\n\");\n",
        "        printf(\"./block_queuing <numBlock> <blockSize> <sharedQueueSize> <path_to_input_1.raw> <path_to_input_2.raw> <path_to_input_3.raw> <path_to_input_4.raw> <output_nodeOutput_filepath> <output_nextLevelNodes_filepath>\\n\");\n",
        "    }\n",
        "    // Read input and output file names from command\n",
        "    int numBlock;\n",
        "    int blockSize;\n",
        "    int sharedQueueSize; \n",
        "    sscanf(argv[1], \"%d\", &numBlock);\n",
        "    sscanf(argv[2], \"%d\", &blockSize);\n",
        "    sscanf(argv[3], \"%d\", &sharedQueueSize);\n",
        "\n",
        "    char* input_1 = argv[4]; \n",
        "    char* input_2 = argv[5]; \n",
        "    char* input_3 = argv[6];\n",
        "    char* input_4 = argv[7];\n",
        "    char* output_nodeOutput = argv[8]; \n",
        "    char* output_nextLevelNodes = argv[9];\n",
        "    \n",
        "    // Variables\n",
        "    int numNodePtrs;          \n",
        "    int numNodes;             \n",
        "    int *nodePtrs_h;          \n",
        "    int *nodeNeighbors_h;      \n",
        "    int *nodeVisited_h;   \n",
        "    int numTotalNeighbors_h;\n",
        "    int *currLevelNodes_h;\n",
        "    int numCurrLevelNodes;\n",
        "    int numNextLevelNodes_h;\n",
        "    int *nodeGate_h;\n",
        "    int *nodeInput_h;\n",
        "    int *nodeOutput_h;\n",
        "    \n",
        "    numNextLevelNodes_h = 0;\n",
        "    numNodePtrs = read_input_one_two_four(&nodePtrs_h, input_1);\n",
        "    numTotalNeighbors_h = read_input_one_two_four(&nodeNeighbors_h, input_2);\n",
        "    numNodes = read_input_three(&nodeVisited_h, &nodeGate_h, &nodeInput_h, &nodeOutput_h, input_3);\n",
        "    numCurrLevelNodes = read_input_one_two_four(&currLevelNodes_h, input_4);\n",
        "    \n",
        "    // Allocate GPU Memory \n",
        "\n",
        "    int *nodePtrs_d;          \n",
        "    int *nodeNeighbors_d;      \n",
        "    int *nodeVisited_d;   \n",
        "    int numTotalNeighbors_d;\n",
        "    int *currLevelNodes_d;\n",
        "    int *nodeGate_d;\n",
        "    int *nodeInput_d;\n",
        "    int *nodeOutput_d;\n",
        "\n",
        "    int* nextLevelNodes_d;\n",
        "    gpuErrorCheck(cudaMalloc((void **)&nextLevelNodes_d, MAX_QUEUE_SIZE * sizeof(int)));\n",
        "    gpuErrorCheck(cudaMalloc((void **)&nodeVisited_d, numNodes * sizeof(int)));\n",
        "    gpuErrorCheck(cudaMalloc((void **)&nodePtrs_d, numNodePtrs * sizeof(int)));\n",
        "    gpuErrorCheck(cudaMalloc((void **)&nodeNeighbors_d, numTotalNeighbors_h * sizeof(int)));\n",
        "    gpuErrorCheck(cudaMalloc((void **)&currLevelNodes_d, numCurrLevelNodes * sizeof(int)));\n",
        "    gpuErrorCheck(cudaMalloc((void **)&nodeGate_d, numNodes * sizeof(int)));\n",
        "    gpuErrorCheck(cudaMalloc((void **)&nodeInput_d, numNodes * sizeof(int)));\n",
        "    gpuErrorCheck(cudaMalloc((void **)&nodeOutput_d, numNodes * sizeof(int)));\n",
        "\n",
        "    gpuErrorCheck(cudaMemcpy(nodeVisited_d, nodeVisited_h, numNodes * sizeof(int), cudaMemcpyHostToDevice));\n",
        "    gpuErrorCheck(cudaMemcpy(nodePtrs_d, nodePtrs_h, numNodePtrs * sizeof(int), cudaMemcpyHostToDevice));\n",
        "    gpuErrorCheck(cudaMemcpy(nodeNeighbors_d, nodeNeighbors_h, numTotalNeighbors_h * sizeof(int), cudaMemcpyHostToDevice));\n",
        "    gpuErrorCheck(cudaMemcpy(currLevelNodes_d, currLevelNodes_h, numCurrLevelNodes * sizeof(int), cudaMemcpyHostToDevice));\n",
        "    gpuErrorCheck(cudaMemcpy(nodeGate_d, nodeGate_h, numNodes * sizeof(int), cudaMemcpyHostToDevice));\n",
        "    gpuErrorCheck(cudaMemcpy(nodeInput_d, nodeInput_h, numNodes * sizeof(int), cudaMemcpyHostToDevice));\n",
        "    gpuErrorCheck(cudaMemcpy(nodeOutput_d, nodeOutput_h, numNodes * sizeof(int), cudaMemcpyHostToDevice));\n",
        "\n",
        "\n",
        "    // Start timer\n",
        "    float memsettime;\n",
        "    cudaEvent_t start, stop;\n",
        "    gpuErrorCheck(cudaEventCreate(&start));\n",
        "    gpuErrorCheck(cudaEventCreate(&stop));\n",
        "    gpuErrorCheck(cudaEventRecord(start, 0));\n",
        "\n",
        "    // CALL THE KERNEL\n",
        "    printf(\"%d Blocks, %d Threads/Block, %d Shared Queue Size\\n\", numBlock, blockSize, sharedQueueSize);\n",
        "\n",
        "    int capacity = numBlock * blockSize;\n",
        "    int remainder = (int)((numCurrLevelNodes % capacity) > 0);\n",
        "    int nodes_per_thread = (numCurrLevelNodes / capacity) + remainder;\n",
        "    printf(\"%d Nodes per Thread\\n\", nodes_per_thread);\n",
        "    blockLevelQueueBFS<<<numBlock, blockSize>>>(currLevelNodes_d, numCurrLevelNodes, nodePtrs_d, nodeNeighbors_d, nodeVisited_d, nodeGate_d, nodeInput_d, nodeOutput_d, nextLevelNodes_d, nodes_per_thread, sharedQueueSize);\n",
        "    cudaDeviceSynchronize();\n",
        "\n",
        "    // Stop timer\n",
        "    gpuErrorCheck(cudaEventRecord(stop, 0));\n",
        "    gpuErrorCheck(cudaEventSynchronize(stop));\n",
        "    gpuErrorCheck(cudaEventElapsedTime(&memsettime, start, stop));\n",
        "    // print total time elapsed for global queuing gate simulation\n",
        "    printf(\"*** Block Queuing Execution Time: %f ms ***\\n\", memsettime);\n",
        "\n",
        "    gpuErrorCheck(cudaEventDestroy(start));\n",
        "    gpuErrorCheck(cudaEventDestroy(stop));\n",
        "\n",
        "    // Cleanup;\n",
        "    cudaFree(nodePtrs_d);\n",
        "    free(nodePtrs_h);\n",
        "    cudaFree(nodeNeighbors_d);\n",
        "    free(nodeNeighbors_h);\n",
        "    cudaFree(nodeVisited_d);\n",
        "    free(nodeVisited_h);\n",
        "    cudaFree(currLevelNodes_d);\n",
        "    free(currLevelNodes_h);\n",
        "    cudaFree(nodeGate_d);\n",
        "    free(nodeGate_h);\n",
        "    cudaFree(nodeInput_d);\n",
        "    free(nodeInput_h);\n",
        "\n",
        "    // Copy results\n",
        "    gpuErrorCheck(cudaMemcpyFromSymbol(&numNextLevelNodes_h, numNextLevelNodes_d, sizeof(int)));\n",
        "    int *nodeOutputResult;\n",
        "    nodeOutputResult = (int*)malloc(numNodes*sizeof(int)); \n",
        "    gpuErrorCheck(cudaMemcpy(nodeOutputResult, nodeOutput_d, numNodes*sizeof(int), cudaMemcpyDeviceToHost));\n",
        "\n",
        "    int *nextLevelNodes_h; // to write in output file\n",
        "    nextLevelNodes_h = ( int *)malloc(numNextLevelNodes_h * sizeof(int));\n",
        "\n",
        "    gpuErrorCheck(cudaMemcpy(nextLevelNodes_h, nextLevelNodes_d, numNextLevelNodes_h * sizeof(int), cudaMemcpyDeviceToHost));\n",
        "\n",
        "    FILE* output_file_node = fopen(output_nodeOutput, \"w\");\n",
        "    FILE* output_file_nextLevelNode = fopen(output_nextLevelNodes, \"w\");\n",
        "\n",
        "    // Print out the results\n",
        "    fprintf(output_file_node, \"%d\\n\", numNodes);\n",
        "    for (int i = 0; i < numNodes; i++) { \n",
        "        fprintf(output_file_node, \"%d\\n\", nodeOutputResult[i]); \n",
        "    }\n",
        "    fclose(output_file_node);\n",
        "\n",
        "    fprintf(output_file_nextLevelNode, \"%d\\n\", numNextLevelNodes_h);\n",
        "    for (int i = 0; i < numNextLevelNodes_h; i++) { \n",
        "        fprintf(output_file_nextLevelNode, \"%d\\n\", nextLevelNodes_h[i]); \n",
        "    }\n",
        "    fclose(output_file_nextLevelNode);\n",
        "\n",
        "    // Lastly...\n",
        "    free(nextLevelNodes_h);\n",
        "    cudaFree(nextLevelNodes_d);\n",
        "    free(nodeOutputResult);\n",
        "    cudaFree(nodeOutput_d);\n",
        "}"
      ],
      "metadata": {
        "id": "KQcxzudZaYrJ",
        "colab": {
          "base_uri": "https://localhost:8080/"
        },
        "outputId": "a70f5620-6028-4902-d95e-00eb6755db23"
      },
      "execution_count": null,
      "outputs": [
        {
          "output_type": "stream",
          "name": "stdout",
          "text": [
            "Writing block_queuing.cu\n"
          ]
        }
      ]
    },
    {
      "cell_type": "markdown",
      "source": [
        "## Compile and Run"
      ],
      "metadata": {
        "id": "LZAjaefRsAHw"
      }
    },
    {
      "cell_type": "code",
      "source": [
        "!nvcc block_queuing.cu -o block_queuing"
      ],
      "metadata": {
        "colab": {
          "base_uri": "https://localhost:8080/"
        },
        "outputId": "6e8c1d71-9eee-49d0-93ce-eeab97ccd93d",
        "id": "Z4CiESRAsAHx"
      },
      "execution_count": null,
      "outputs": [
        {
          "output_type": "stream",
          "name": "stdout",
          "text": [
            "block_queuing.cu(235): warning: variable \"numTotalNeighbors_d\" was declared but never referenced\n",
            "\n"
          ]
        }
      ]
    },
    {
      "cell_type": "markdown",
      "source": [
        "### 25 blocks, 32 threads per block, 32 shared queue size"
      ],
      "metadata": {
        "id": "7LRaKuETsAHx"
      }
    },
    {
      "cell_type": "code",
      "source": [
        "!./block_queuing 25 32 32 input1.raw input2.raw input3.raw input4.raw nodeOutput.raw nextLevelNodes.raw"
      ],
      "metadata": {
        "colab": {
          "base_uri": "https://localhost:8080/"
        },
        "outputId": "785c38a6-e23c-4dcc-bfa0-77d39bb6936c",
        "id": "bGk1GQwvsAHx"
      },
      "execution_count": null,
      "outputs": [
        {
          "output_type": "stream",
          "name": "stdout",
          "text": [
            "25 Blocks, 32 Threads/Block, 32 Shared Queue Size\n",
            "13 Nodes per Thread\n",
            "*** Block Queuing Execution Time: 0.261600 ms ***\n"
          ]
        }
      ]
    },
    {
      "cell_type": "markdown",
      "source": [
        "### 25 blocks, 32 threads per block, 64 shared queue size "
      ],
      "metadata": {
        "id": "IOSumLRgsAHy"
      }
    },
    {
      "cell_type": "code",
      "source": [
        "!./block_queuing 25 32 64 input1.raw input2.raw input3.raw input4.raw nodeOutput.raw nextLevelNodes.raw"
      ],
      "metadata": {
        "colab": {
          "base_uri": "https://localhost:8080/"
        },
        "outputId": "95bd9e8d-3412-492f-9969-7de3bdc899cd",
        "id": "WgaevcaFsAHy"
      },
      "execution_count": null,
      "outputs": [
        {
          "output_type": "stream",
          "name": "stdout",
          "text": [
            "25 Blocks, 32 Threads/Block, 64 Shared Queue Size\n",
            "13 Nodes per Thread\n",
            "*** Block Queuing Execution Time: 0.262912 ms ***\n"
          ]
        }
      ]
    },
    {
      "cell_type": "markdown",
      "source": [
        "### 35 blocks, 32 threads per block, 32 shared queue size"
      ],
      "metadata": {
        "id": "y6-xpxuusAHy"
      }
    },
    {
      "cell_type": "code",
      "source": [
        "!./block_queuing 35 32 32 input1.raw input2.raw input3.raw input4.raw nodeOutput.raw nextLevelNodes.raw"
      ],
      "metadata": {
        "colab": {
          "base_uri": "https://localhost:8080/"
        },
        "outputId": "1a0c8844-3c80-48a0-a1f3-d69b04814a84",
        "id": "ng92ED3NsAHy"
      },
      "execution_count": null,
      "outputs": [
        {
          "output_type": "stream",
          "name": "stdout",
          "text": [
            "35 Blocks, 32 Threads/Block, 32 Shared Queue Size\n",
            "9 Nodes per Thread\n",
            "*** Block Queuing Execution Time: 0.197728 ms ***\n"
          ]
        }
      ]
    },
    {
      "cell_type": "markdown",
      "source": [
        "### 35 blocks, 32 threads per block, 64 shared queue size"
      ],
      "metadata": {
        "id": "G7h0-gVksAHy"
      }
    },
    {
      "cell_type": "code",
      "source": [
        "!./block_queuing 35 32 64 input1.raw input2.raw input3.raw input4.raw nodeOutput.raw nextLevelNodes.raw"
      ],
      "metadata": {
        "colab": {
          "base_uri": "https://localhost:8080/"
        },
        "outputId": "87e48c15-ff4f-44be-c2c9-b69e763b7300",
        "id": "PDZu-XtOsAHz"
      },
      "execution_count": null,
      "outputs": [
        {
          "output_type": "stream",
          "name": "stdout",
          "text": [
            "35 Blocks, 32 Threads/Block, 64 Shared Queue Size\n",
            "9 Nodes per Thread\n",
            "*** Block Queuing Execution Time: 0.188352 ms ***\n"
          ]
        }
      ]
    },
    {
      "cell_type": "markdown",
      "source": [
        "### 25 blocks, 64 threads per block, 32 shared queue size"
      ],
      "metadata": {
        "id": "es6KmgylsAHz"
      }
    },
    {
      "cell_type": "code",
      "source": [
        "!./block_queuing 25 64 32 input1.raw input2.raw input3.raw input4.raw nodeOutput.raw nextLevelNodes.raw"
      ],
      "metadata": {
        "colab": {
          "base_uri": "https://localhost:8080/"
        },
        "outputId": "6411b5fe-ecd0-41c4-89d6-b8c5040a4b19",
        "id": "tsUQ5cEdsAHz"
      },
      "execution_count": null,
      "outputs": [
        {
          "output_type": "stream",
          "name": "stdout",
          "text": [
            "25 Blocks, 64 Threads/Block, 32 Shared Queue Size\n",
            "7 Nodes per Thread\n",
            "*** Block Queuing Execution Time: 0.158560 ms ***\n"
          ]
        }
      ]
    },
    {
      "cell_type": "markdown",
      "source": [
        "### 25 blocks, 64 threads per block, 64 shared queue size"
      ],
      "metadata": {
        "id": "9VPjf0TzsAHz"
      }
    },
    {
      "cell_type": "code",
      "source": [
        "!./block_queuing 25 64 64 input1.raw input2.raw input3.raw input4.raw nodeOutput.raw nextLevelNodes.raw"
      ],
      "metadata": {
        "colab": {
          "base_uri": "https://localhost:8080/"
        },
        "outputId": "394d48da-b798-4ad1-a68b-d1fd64cb74d2",
        "id": "lmZl4JgDsAHz"
      },
      "execution_count": null,
      "outputs": [
        {
          "output_type": "stream",
          "name": "stdout",
          "text": [
            "25 Blocks, 64 Threads/Block, 64 Shared Queue Size\n",
            "7 Nodes per Thread\n",
            "*** Block Queuing Execution Time: 0.153984 ms ***\n"
          ]
        }
      ]
    },
    {
      "cell_type": "markdown",
      "source": [
        "### 35 blocks, 64 threads per block, 32 shared queue size"
      ],
      "metadata": {
        "id": "ot4adqeGsAH0"
      }
    },
    {
      "cell_type": "code",
      "source": [
        "!./block_queuing 35 64 32 input1.raw input2.raw input3.raw input4.raw nodeOutput.raw nextLevelNodes.raw"
      ],
      "metadata": {
        "colab": {
          "base_uri": "https://localhost:8080/"
        },
        "outputId": "1ab87212-b72f-4165-dec8-dff937377467",
        "id": "GlXLJ8g_sAH0"
      },
      "execution_count": null,
      "outputs": [
        {
          "output_type": "stream",
          "name": "stdout",
          "text": [
            "35 Blocks, 64 Threads/Block, 32 Shared Queue Size\n",
            "5 Nodes per Thread\n",
            "*** Block Queuing Execution Time: 0.118624 ms ***\n"
          ]
        }
      ]
    },
    {
      "cell_type": "markdown",
      "source": [
        "### 35 blocks, 64 threads per block, 64 shared queue size"
      ],
      "metadata": {
        "id": "NwXkQdr9sAH0"
      }
    },
    {
      "cell_type": "code",
      "source": [
        "!./block_queuing 35 64 64 input1.raw input2.raw input3.raw input4.raw nodeOutput.raw nextLevelNodes.raw"
      ],
      "metadata": {
        "colab": {
          "base_uri": "https://localhost:8080/"
        },
        "outputId": "2ec94e15-0587-46c4-dddf-61e304c57ba4",
        "id": "bqtUoqRysAH1"
      },
      "execution_count": null,
      "outputs": [
        {
          "output_type": "stream",
          "name": "stdout",
          "text": [
            "35 Blocks, 64 Threads/Block, 64 Shared Queue Size\n",
            "5 Nodes per Thread\n",
            "*** Block Queuing Execution Time: 0.114272 ms ***\n"
          ]
        }
      ]
    },
    {
      "cell_type": "markdown",
      "source": [
        "### Verify Results"
      ],
      "metadata": {
        "id": "i26bXto3sAH1"
      }
    },
    {
      "cell_type": "code",
      "source": [
        "!./compareNextLevelNodes sol_nextLevelNodes.raw nextLevelNodes.raw"
      ],
      "metadata": {
        "colab": {
          "base_uri": "https://localhost:8080/"
        },
        "outputId": "551a4480-1139-44da-ff4e-a54333cd1482",
        "id": "Z9HYUfs7sAH2"
      },
      "execution_count": null,
      "outputs": [
        {
          "output_type": "stream",
          "name": "stdout",
          "text": [
            "No errors!\n"
          ]
        }
      ]
    },
    {
      "cell_type": "code",
      "source": [
        "!./compareNodeOutput sol_nodeOutput.raw nodeOutput.raw"
      ],
      "metadata": {
        "colab": {
          "base_uri": "https://localhost:8080/"
        },
        "outputId": "d47e8669-d0f2-4588-94d8-8b71d9b39da9",
        "id": "a92zXpvksAH2"
      },
      "execution_count": null,
      "outputs": [
        {
          "output_type": "stream",
          "name": "stdout",
          "text": [
            "Total Errors : 0\t"
          ]
        }
      ]
    }
  ]
}